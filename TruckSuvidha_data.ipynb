{
 "cells": [
  {
   "cell_type": "code",
   "execution_count": 3,
   "id": "2f2e0ba2-a854-4119-b0c0-6827d94b1d1b",
   "metadata": {},
   "outputs": [
    {
     "data": {
      "text/html": [
       "<div>\n",
       "<style scoped>\n",
       "    .dataframe tbody tr th:only-of-type {\n",
       "        vertical-align: middle;\n",
       "    }\n",
       "\n",
       "    .dataframe tbody tr th {\n",
       "        vertical-align: top;\n",
       "    }\n",
       "\n",
       "    .dataframe thead th {\n",
       "        text-align: right;\n",
       "    }\n",
       "</style>\n",
       "<table border=\"1\" class=\"dataframe\">\n",
       "  <thead>\n",
       "    <tr style=\"text-align: right;\">\n",
       "      <th></th>\n",
       "      <th>Source City</th>\n",
       "      <th>Destination City</th>\n",
       "      <th>Distance</th>\n",
       "      <th>Weight (MT)</th>\n",
       "      <th>Schd. Date</th>\n",
       "      <th>Material</th>\n",
       "      <th>Truck Type</th>\n",
       "      <th>Posted By</th>\n",
       "      <th>Details</th>\n",
       "      <th>Quotation</th>\n",
       "    </tr>\n",
       "  </thead>\n",
       "  <tbody>\n",
       "    <tr>\n",
       "      <th>0</th>\n",
       "      <td>Bangalore (KA)</td>\n",
       "      <td>Noida (UP)</td>\n",
       "      <td>2,130 km</td>\n",
       "      <td>Upto 12 MT</td>\n",
       "      <td>26-Feb-2025</td>\n",
       "      <td>Others</td>\n",
       "      <td>Truck 15MT / 10 w...</td>\n",
       "      <td>Transporter</td>\n",
       "      <td>View Contact</td>\n",
       "      <td>Quote Now</td>\n",
       "    </tr>\n",
       "    <tr>\n",
       "      <th>1</th>\n",
       "      <td>Jamui (BR)</td>\n",
       "      <td>Noida (UP)</td>\n",
       "      <td>1,180 km</td>\n",
       "      <td>Upto 12 MT</td>\n",
       "      <td>26-Feb-2025</td>\n",
       "      <td>Others</td>\n",
       "      <td>Truck 20MT / 12 w...</td>\n",
       "      <td>Transporter</td>\n",
       "      <td>View Contact</td>\n",
       "      <td>Quote Now</td>\n",
       "    </tr>\n",
       "    <tr>\n",
       "      <th>2</th>\n",
       "      <td>Jamui (BR)</td>\n",
       "      <td>Nagpur (MH)</td>\n",
       "      <td>1,126 km</td>\n",
       "      <td>Do Not Know</td>\n",
       "      <td>26-Feb-2025</td>\n",
       "      <td>Others</td>\n",
       "      <td>Canters 17feet / ...</td>\n",
       "      <td>Transporter</td>\n",
       "      <td>View Contact</td>\n",
       "      <td>Quote Now</td>\n",
       "    </tr>\n",
       "    <tr>\n",
       "      <th>3</th>\n",
       "      <td>Nagpur (MH)</td>\n",
       "      <td>Hisar (HR)</td>\n",
       "      <td>1,302 km</td>\n",
       "      <td>Do Not Know</td>\n",
       "      <td>26-Feb-2025</td>\n",
       "      <td>Packed Food</td>\n",
       "      <td>Canters 19feet / ...</td>\n",
       "      <td>Transporter</td>\n",
       "      <td>View Contact</td>\n",
       "      <td>Quote Now</td>\n",
       "    </tr>\n",
       "    <tr>\n",
       "      <th>4</th>\n",
       "      <td>Bhagabannagar (TR)</td>\n",
       "      <td>Hyd (AP)</td>\n",
       "      <td>2,754 km</td>\n",
       "      <td>Do Not Know</td>\n",
       "      <td>26-Feb-2025</td>\n",
       "      <td>Others</td>\n",
       "      <td>Canters 19feet / ...</td>\n",
       "      <td>Transporter</td>\n",
       "      <td>View Contact</td>\n",
       "      <td>Quote Now</td>\n",
       "    </tr>\n",
       "  </tbody>\n",
       "</table>\n",
       "</div>"
      ],
      "text/plain": [
       "          Source City Destination City  Distance  Weight (MT)   Schd. Date  \\\n",
       "0      Bangalore (KA)       Noida (UP)  2,130 km   Upto 12 MT  26-Feb-2025   \n",
       "1          Jamui (BR)       Noida (UP)  1,180 km   Upto 12 MT  26-Feb-2025   \n",
       "2          Jamui (BR)      Nagpur (MH)  1,126 km  Do Not Know  26-Feb-2025   \n",
       "3         Nagpur (MH)       Hisar (HR)  1,302 km  Do Not Know  26-Feb-2025   \n",
       "4  Bhagabannagar (TR)         Hyd (AP)  2,754 km  Do Not Know  26-Feb-2025   \n",
       "\n",
       "      Material            Truck Type    Posted By       Details  Quotation  \n",
       "0       Others  Truck 15MT / 10 w...  Transporter  View Contact  Quote Now  \n",
       "1       Others  Truck 20MT / 12 w...  Transporter  View Contact  Quote Now  \n",
       "2       Others  Canters 17feet / ...  Transporter  View Contact  Quote Now  \n",
       "3  Packed Food  Canters 19feet / ...  Transporter  View Contact  Quote Now  \n",
       "4       Others  Canters 19feet / ...  Transporter  View Contact  Quote Now  "
      ]
     },
     "execution_count": 3,
     "metadata": {},
     "output_type": "execute_result"
    }
   ],
   "source": [
    "import pandas as pd\n",
    "tables = pd.read_html('https://trucksuvidha.com/')\n",
    "df = tables[0]\n",
    "df.head()"
   ]
  },
  {
   "cell_type": "code",
   "execution_count": 2,
   "id": "f39e55c4-051b-4aae-8b41-0044d185180b",
   "metadata": {},
   "outputs": [],
   "source": [
    "import pandas as pd\n",
    "import datetime\n",
    "import os\n",
    "\n",
    "def collect_and_store_data():\n",
    "    #\"\"\"Fetches data from the website and stores it with a timestamp.\"\"\"\n",
    "    tables = pd.read_html('https://trucksuvidha.com/')\n",
    "    df = tables[0]\n",
    "    # Get current timestamp\n",
    "    timestamp = datetime.datetime.now().strftime(\"%Y/%m/%d_%H:%M:%S\")    \n",
    "    # Add timestamp column to DataFrame\n",
    "    df['timestamp'] = timestamp\n",
    "    # File to store the data\n",
    "    file_path = 'trucksuvidha_data.csv'\n",
    "    # If file exists, append data. Otherwise, create and write data with header.\n",
    "    if os.path.exists(file_path):\n",
    "        df.to_csv(file_path, mode='a', header=False, index=False)\n",
    "    else:\n",
    "        df.to_csv(file_path, mode='w', header=True, index=False)\n",
    "    print(f\"Data collected and saved at {timestamp}\")"
   ]
  },
  {
   "cell_type": "code",
   "execution_count": 5,
   "id": "4982e9ca-6895-4816-b583-2c3e0ff16917",
   "metadata": {},
   "outputs": [
    {
     "name": "stdout",
     "output_type": "stream",
     "text": [
      "Requirement already satisfied: schedule==1.1.0 in c:\\users\\lokes\\anaconda3\\lib\\site-packages (1.1.0)\n"
     ]
    }
   ],
   "source": [
    "\n",
    "!pip install schedule==1.1.0"
   ]
  },
  {
   "cell_type": "code",
   "execution_count": null,
   "id": "0c824061-318c-48f4-a492-578d70370404",
   "metadata": {},
   "outputs": [
    {
     "name": "stdout",
     "output_type": "stream",
     "text": [
      "Data collected and saved at 2025/02/26_12:39:56\n",
      "Data collected and saved at 2025/02/26_12:49:58\n",
      "Data collected and saved at 2025/02/26_13:00:05\n"
     ]
    }
   ],
   "source": [
    "import schedule\n",
    "import time\n",
    "\n",
    "# Schedule the function to run every 10 minutes\n",
    "schedule.every(1/6).hours.do(collect_and_store_data)\n",
    "\n",
    "while True:\n",
    "  schedule.run_pending()\n",
    "  time.sleep(1)"
   ]
  },
  {
   "cell_type": "code",
   "execution_count": 1,
   "id": "b03bb820-6ca0-42d4-a654-365fc396176a",
   "metadata": {},
   "outputs": [
    {
     "name": "stdout",
     "output_type": "stream",
     "text": [
      "Collecting geopy\n",
      "  Downloading geopy-2.4.1-py3-none-any.whl.metadata (6.8 kB)\n",
      "Collecting geographiclib<3,>=1.52 (from geopy)\n",
      "  Downloading geographiclib-2.0-py3-none-any.whl.metadata (1.4 kB)\n",
      "Downloading geopy-2.4.1-py3-none-any.whl (125 kB)\n",
      "Downloading geographiclib-2.0-py3-none-any.whl (40 kB)\n",
      "Installing collected packages: geographiclib, geopy\n",
      "Successfully installed geographiclib-2.0 geopy-2.4.1\n"
     ]
    }
   ],
   "source": [
    "!pip install geopy\n"
   ]
  },
  {
   "cell_type": "code",
   "execution_count": 7,
   "id": "46321efe-72d7-4d9d-b806-a803fc035c53",
   "metadata": {},
   "outputs": [],
   "source": [
    "from geopy.geocoders import Nominatim\n",
    "import pandas as pd\n",
    "\n",
    "def get_city_data(city_name):\n",
    "    \n",
    "    #Gets the longitude, latitude, and population of a city using geopy and Nominatim.\n",
    "    \n",
    "    geolocator = Nominatim(user_agent=\"city_data_collector\")\n",
    "    location = geolocator.geocode(city_name)\n",
    "\n",
    "    if location:\n",
    "        latitude = location.latitude\n",
    "        longitude = location.longitude\n",
    "        # Population data is not always available, so handle the exception\n",
    "        try:\n",
    "            population = location.raw['extratags']['population']\n",
    "        except KeyError:\n",
    "            population = \"Not available\"\n",
    "\n",
    "        return latitude, longitude, population\n",
    "    else:\n",
    "        return None, None, None\n",
    "\n",
    "# Assuming your DataFrame is named 'df' and has a 'Destination' column\n",
    "city_data = []\n",
    "for city in df['Destination City'].unique():  # Get unique destination cities\n",
    "    latitude, longitude, population = get_city_data(city)\n",
    "    if latitude and longitude:\n",
    "        city_data.append([city, latitude, longitude, population])  # Include city name here\n",
    "\n",
    "# Create a DataFrame and save to CSV\n",
    "city_df = pd.DataFrame(city_data, columns=['City', 'Latitude', 'Longitude', 'Population'])  # Adjusted column names\n",
    "city_df.to_csv('destination_data.csv', index=False)"
   ]
  },
  {
   "cell_type": "code",
   "execution_count": null,
   "id": "33778386-981c-4810-9d14-3b0a5aa4064d",
   "metadata": {},
   "outputs": [],
   "source": []
  }
 ],
 "metadata": {
  "kernelspec": {
   "display_name": "Python 3 (ipykernel)",
   "language": "python",
   "name": "python3"
  },
  "language_info": {
   "codemirror_mode": {
    "name": "ipython",
    "version": 3
   },
   "file_extension": ".py",
   "mimetype": "text/x-python",
   "name": "python",
   "nbconvert_exporter": "python",
   "pygments_lexer": "ipython3",
   "version": "3.12.7"
  }
 },
 "nbformat": 4,
 "nbformat_minor": 5
}
