{
 "cells": [
  {
   "cell_type": "code",
   "execution_count": 1,
   "id": "2f2e0ba2-a854-4119-b0c0-6827d94b1d1b",
   "metadata": {},
   "outputs": [
    {
     "data": {
      "text/html": [
       "<div>\n",
       "<style scoped>\n",
       "    .dataframe tbody tr th:only-of-type {\n",
       "        vertical-align: middle;\n",
       "    }\n",
       "\n",
       "    .dataframe tbody tr th {\n",
       "        vertical-align: top;\n",
       "    }\n",
       "\n",
       "    .dataframe thead th {\n",
       "        text-align: right;\n",
       "    }\n",
       "</style>\n",
       "<table border=\"1\" class=\"dataframe\">\n",
       "  <thead>\n",
       "    <tr style=\"text-align: right;\">\n",
       "      <th></th>\n",
       "      <th>Source City</th>\n",
       "      <th>Destination City</th>\n",
       "      <th>Distance</th>\n",
       "      <th>Weight (MT)</th>\n",
       "      <th>Schd. Date</th>\n",
       "      <th>Material</th>\n",
       "      <th>Truck Type</th>\n",
       "      <th>Posted By</th>\n",
       "      <th>Details</th>\n",
       "      <th>Quotation</th>\n",
       "    </tr>\n",
       "  </thead>\n",
       "  <tbody>\n",
       "    <tr>\n",
       "      <th>0</th>\n",
       "      <td>Jagdalpur (CT)</td>\n",
       "      <td>Deverapalli (AP)</td>\n",
       "      <td>353 km</td>\n",
       "      <td>Upto 28 MT</td>\n",
       "      <td>02-Mar-2025</td>\n",
       "      <td>Others</td>\n",
       "      <td>Tanker Truck (14 ...</td>\n",
       "      <td>Transporter</td>\n",
       "      <td>View Contact</td>\n",
       "      <td>Quote Now</td>\n",
       "    </tr>\n",
       "    <tr>\n",
       "      <th>1</th>\n",
       "      <td>Deharadun (UT)</td>\n",
       "      <td>Bangalore (KA)</td>\n",
       "      <td>2,369 km</td>\n",
       "      <td>Upto 12 MT</td>\n",
       "      <td>10-Mar-2025</td>\n",
       "      <td>Others</td>\n",
       "      <td>Container Trucks</td>\n",
       "      <td>Customer</td>\n",
       "      <td>View Contact</td>\n",
       "      <td>Quote Now</td>\n",
       "    </tr>\n",
       "  </tbody>\n",
       "</table>\n",
       "</div>"
      ],
      "text/plain": [
       "      Source City  Destination City  Distance Weight (MT)   Schd. Date  \\\n",
       "0  Jagdalpur (CT)  Deverapalli (AP)    353 km  Upto 28 MT  02-Mar-2025   \n",
       "1  Deharadun (UT)    Bangalore (KA)  2,369 km  Upto 12 MT  10-Mar-2025   \n",
       "\n",
       "  Material            Truck Type    Posted By       Details  Quotation  \n",
       "0   Others  Tanker Truck (14 ...  Transporter  View Contact  Quote Now  \n",
       "1   Others      Container Trucks     Customer  View Contact  Quote Now  "
      ]
     },
     "execution_count": 1,
     "metadata": {},
     "output_type": "execute_result"
    }
   ],
   "source": [
    "import pandas as pd\n",
    "tables = pd.read_html('https://trucksuvidha.com/')\n",
    "df = tables[0]\n",
    "df.head()"
   ]
  },
  {
   "cell_type": "code",
   "execution_count": 19,
   "id": "f39e55c4-051b-4aae-8b41-0044d185180b",
   "metadata": {},
   "outputs": [],
   "source": [
    "import pandas as pd\n",
    "import datetime\n",
    "import os\n",
    "\n",
    "def collect_and_store_data():\n",
    "    #\"\"\"Fetches data from the website and stores it with a timestamp.\"\"\"\n",
    "    tables = pd.read_html('https://trucksuvidha.com/')\n",
    "    df = tables[0]\n",
    "    # Get current timestamp\n",
    "    timestamp = datetime.datetime.now().strftime(\"%Y/%m/%d_%H:%M:%S\")    \n",
    "    # Add timestamp column to DataFrame\n",
    "    df['timestamp'] = timestamp\n",
    "    # File to store the data\n",
    "    file_path = 'trucksuvidha_data.csv'\n",
    "    # If file exists, append data. Otherwise, create and write data with header.\n",
    "    if os.path.exists(file_path):\n",
    "        df.to_csv(file_path, mode='a', header=False, index=False)\n",
    "    else:\n",
    "        df.to_csv(file_path, mode='w', header=True, index=False)\n",
    "    print(f\"Data collected and saved at {timestamp}\")"
   ]
  },
  {
   "cell_type": "code",
   "execution_count": 21,
   "id": "4982e9ca-6895-4816-b583-2c3e0ff16917",
   "metadata": {},
   "outputs": [
    {
     "name": "stdout",
     "output_type": "stream",
     "text": [
      "Requirement already satisfied: schedule==1.1.0 in c:\\users\\lokes\\anaconda3\\lib\\site-packages (1.1.0)\n"
     ]
    }
   ],
   "source": [
    "\n",
    "!pip install schedule==1.1.0"
   ]
  },
  {
   "cell_type": "code",
   "execution_count": 23,
   "id": "0c824061-318c-48f4-a492-578d70370404",
   "metadata": {},
   "outputs": [
    {
     "name": "stdout",
     "output_type": "stream",
     "text": [
      "Data collected and saved at 2025/03/02_10:33:58\n",
      "Data collected and saved at 2025/03/02_10:34:01\n",
      "Data collected and saved at 2025/03/02_10:43:59\n",
      "Data collected and saved at 2025/03/02_10:44:03\n",
      "Data collected and saved at 2025/03/02_10:44:06\n",
      "Data collected and saved at 2025/03/02_11:11:14\n",
      "Data collected and saved at 2025/03/02_11:11:16\n",
      "Data collected and saved at 2025/03/02_11:11:19\n",
      "Data collected and saved at 2025/03/02_11:21:17\n",
      "Data collected and saved at 2025/03/02_11:21:20\n",
      "Data collected and saved at 2025/03/02_11:21:23\n",
      "Data collected and saved at 2025/03/02_11:31:20\n",
      "Data collected and saved at 2025/03/02_11:31:25\n",
      "Data collected and saved at 2025/03/02_11:31:28\n",
      "Data collected and saved at 2025/03/02_11:41:22\n",
      "Data collected and saved at 2025/03/02_11:41:27\n",
      "Data collected and saved at 2025/03/02_11:41:30\n",
      "Data collected and saved at 2025/03/02_11:51:24\n",
      "Data collected and saved at 2025/03/02_11:51:28\n",
      "Data collected and saved at 2025/03/02_11:51:33\n",
      "Data collected and saved at 2025/03/02_12:01:27\n",
      "Data collected and saved at 2025/03/02_12:01:30\n",
      "Data collected and saved at 2025/03/02_12:01:34\n"
     ]
    },
    {
     "ename": "KeyboardInterrupt",
     "evalue": "",
     "output_type": "error",
     "traceback": [
      "\u001b[1;31m---------------------------------------------------------------------------\u001b[0m",
      "\u001b[1;31mKeyboardInterrupt\u001b[0m                         Traceback (most recent call last)",
      "Cell \u001b[1;32mIn[23], line 9\u001b[0m\n\u001b[0;32m      7\u001b[0m \u001b[38;5;28;01mwhile\u001b[39;00m \u001b[38;5;28;01mTrue\u001b[39;00m:\n\u001b[0;32m      8\u001b[0m   schedule\u001b[38;5;241m.\u001b[39mrun_pending()\n\u001b[1;32m----> 9\u001b[0m   time\u001b[38;5;241m.\u001b[39msleep(\u001b[38;5;241m1\u001b[39m)\n",
      "\u001b[1;31mKeyboardInterrupt\u001b[0m: "
     ]
    }
   ],
   "source": [
    "import schedule\n",
    "import time\n",
    "\n",
    "# Schedule the function to run every 10 minutes\n",
    "schedule.every(1/6).hours.do(collect_and_store_data)\n",
    "\n",
    "while True:\n",
    "  schedule.run_pending()\n",
    "  time.sleep(1)"
   ]
  },
  {
   "cell_type": "code",
   "execution_count": 1,
   "id": "b03bb820-6ca0-42d4-a654-365fc396176a",
   "metadata": {},
   "outputs": [
    {
     "name": "stdout",
     "output_type": "stream",
     "text": [
      "Collecting geopy\n",
      "  Downloading geopy-2.4.1-py3-none-any.whl.metadata (6.8 kB)\n",
      "Collecting geographiclib<3,>=1.52 (from geopy)\n",
      "  Downloading geographiclib-2.0-py3-none-any.whl.metadata (1.4 kB)\n",
      "Downloading geopy-2.4.1-py3-none-any.whl (125 kB)\n",
      "Downloading geographiclib-2.0-py3-none-any.whl (40 kB)\n",
      "Installing collected packages: geographiclib, geopy\n",
      "Successfully installed geographiclib-2.0 geopy-2.4.1\n"
     ]
    }
   ],
   "source": [
    "!pip install geopy\n"
   ]
  },
  {
   "cell_type": "code",
   "execution_count": 3,
   "id": "ca2a7e91-8cad-4e5c-87bf-8056f0b1ea95",
   "metadata": {},
   "outputs": [],
   "source": [
    "df=pd.read_csv(r\"C:\\Users\\lokes\\Desktop\\Data Engineering\\trucksuvidha_data.csv\")"
   ]
  },
  {
   "cell_type": "code",
   "execution_count": 5,
   "id": "46321efe-72d7-4d9d-b806-a803fc035c53",
   "metadata": {},
   "outputs": [
    {
     "ename": "NameError",
     "evalue": "name 'os' is not defined",
     "output_type": "error",
     "traceback": [
      "\u001b[1;31m---------------------------------------------------------------------------\u001b[0m",
      "\u001b[1;31mNameError\u001b[0m                                 Traceback (most recent call last)",
      "Cell \u001b[1;32mIn[5], line 36\u001b[0m\n\u001b[0;32m     34\u001b[0m file_path \u001b[38;5;241m=\u001b[39m \u001b[38;5;124m'\u001b[39m\u001b[38;5;124mdestination_data.csv\u001b[39m\u001b[38;5;124m'\u001b[39m\n\u001b[0;32m     35\u001b[0m     \u001b[38;5;66;03m# If file exists, append data. Otherwise, create and write data with header.\u001b[39;00m\n\u001b[1;32m---> 36\u001b[0m \u001b[38;5;28;01mif\u001b[39;00m os\u001b[38;5;241m.\u001b[39mpath\u001b[38;5;241m.\u001b[39mexists(file_path):\n\u001b[0;32m     37\u001b[0m     city_df\u001b[38;5;241m.\u001b[39mto_csv(file_path, mode\u001b[38;5;241m=\u001b[39m\u001b[38;5;124m'\u001b[39m\u001b[38;5;124ma\u001b[39m\u001b[38;5;124m'\u001b[39m, header\u001b[38;5;241m=\u001b[39m\u001b[38;5;28;01mFalse\u001b[39;00m, index\u001b[38;5;241m=\u001b[39m\u001b[38;5;28;01mFalse\u001b[39;00m)\n\u001b[0;32m     38\u001b[0m \u001b[38;5;28;01melse\u001b[39;00m:\n",
      "\u001b[1;31mNameError\u001b[0m: name 'os' is not defined"
     ]
    }
   ],
   "source": [
    "from geopy.geocoders import Nominatim\n",
    "import pandas as pd\n",
    "\n",
    "def get_city_data(city_name):\n",
    "    \n",
    "    #Gets the longitude, latitude, and population of a city using geopy and Nominatim.\n",
    "    \n",
    "    geolocator = Nominatim(user_agent=\"city_data_collector\")\n",
    "    location = geolocator.geocode(city_name)\n",
    "\n",
    "    if location:\n",
    "        latitude = location.latitude\n",
    "        longitude = location.longitude\n",
    "        # Population data is not always available, so handle the exception\n",
    "        try:\n",
    "            population = location.raw['extratags']['population']\n",
    "        except KeyError:\n",
    "            population = \"Not available\"\n",
    "\n",
    "        return latitude, longitude, population\n",
    "    else:\n",
    "        return None, None, None\n",
    "\n",
    "# Assuming your DataFrame is named 'df' and has a 'Destination' column\n",
    "city_data = []\n",
    "for city in df['Destination City'].unique():  # Get unique destination cities\n",
    "    latitude, longitude, population = get_city_data(city)\n",
    "    if latitude and longitude:\n",
    "        city_data.append([city, latitude, longitude, population])  # Include city name here\n",
    "\n",
    "# Create a DataFrame and save to CSV\n",
    "city_df = pd.DataFrame(city_data, columns=['City', 'Latitude', 'Longitude', 'Population'])  # Adjusted column names\n",
    "\n",
    "file_path = 'destination_data.csv'\n",
    "    # If file exists, append data. Otherwise, create and write data with header.\n",
    "if os.path.exists(file_path):\n",
    "    city_df.to_csv(file_path, mode='a', header=False, index=False)\n",
    "else:\n",
    "    city_df.to_csv(file_path, mode='w', header=True, index=False)\n",
    "print(f\"Data collected and saved at {file_path}\")"
   ]
  },
  {
   "cell_type": "code",
   "execution_count": null,
   "id": "4f1c911d-2d64-4641-8446-b134b5513daf",
   "metadata": {},
   "outputs": [],
   "source": []
  }
 ],
 "metadata": {
  "kernelspec": {
   "display_name": "Python 3 (ipykernel)",
   "language": "python",
   "name": "python3"
  },
  "language_info": {
   "codemirror_mode": {
    "name": "ipython",
    "version": 3
   },
   "file_extension": ".py",
   "mimetype": "text/x-python",
   "name": "python",
   "nbconvert_exporter": "python",
   "pygments_lexer": "ipython3",
   "version": "3.12.7"
  }
 },
 "nbformat": 4,
 "nbformat_minor": 5
}
